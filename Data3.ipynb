{
 "cells": [
  {
   "cell_type": "code",
   "execution_count": 8,
   "metadata": {},
   "outputs": [],
   "source": [
    "def nways_1d(x, d, m):\n",
    "    nways = [1] * (d + 2)\n",
    "    nways[0] = nways[-1] = 0\n",
    "    r = [nways[x]]\n",
    "    for i in xrange(m):\n",
    "        new_nways = [0] * (d + 2)\n",
    "        for k in xrange(1, d + 1):\n",
    "            new_nways[k] = nways[k - 1] + nways[k + 1]\n",
    "        nways = new_nways\n",
    "        r.append(nways[x])\n",
    "    return r\n",
    "\n",
    "binomial_cache = {}\n",
    "def binomial(n, k):\n",
    "    if k > n - k:\n",
    "        k = n - k\n",
    "    if k == 0:\n",
    "        return 1\n",
    "    if (n, k) in binomial_cache:\n",
    "        return binomial_cache[(n, k)]\n",
    "    c = 1\n",
    "    for i in xrange(n - k + 1, n + 1):\n",
    "        c *= i\n",
    "    for i in xrange(1, k + 1):\n",
    "        c /= i\n",
    "    binomial_cache[(n, k)] = c\n",
    "    return c\n",
    "\n",
    "def solve(xs, ds, m):\n",
    "    nways = [0] * (m + 1)\n",
    "    nways[0] = 1\n",
    "    for x, d in zip(xs, ds):\n",
    "        cur_nways = nways_1d(x, d, m)\n",
    "        new_nways = [0] * (m + 1)\n",
    "        for i in xrange(0, m + 1):\n",
    "            for j in xrange(0, i + 1):\n",
    "                new_nways[i] += nways[j] * cur_nways[i - j] * binomial(i, j)\n",
    "        nways = new_nways\n",
    "    return int(nways[-1])\n",
    "\n",
    "\n",
    "n = 8\n",
    "result = []\n",
    "m= 12\n",
    "ds = [12,12,12,12,12,12,12,12,12,12,12,12]\n",
    "for i in range(1,7):\n",
    "    for j in range(1,7):\n",
    "        for k in range(1,7):\n",
    "            for l in range(1,7):\n",
    "                for m in range(1,7):\n",
    "                    for n in range(1,7):\n",
    "                        for o in range(1,7):\n",
    "                            for p in range(1,7):\n",
    "                                xs = [i,j,k,l,m,n,o,p]\n",
    "                                out = solve(xs,ds, m)\n",
    "                                result.append(out)\n",
    "    \"n = 8\\n\",\n",
    "    \"result = []\\n\",\n",
    "    \"m = 12\\n\",\n",
    "    \"ds = [12,12,12,12,12,12,12,12]\\n\",\n",
    "    \"for i in range(1,13):\\n\",\n",
    "    \"    for j in range(1,13):\\n\",\n",
    "    \"        for k in range(1,13):\\n\",\n",
    "    \"            for l in range(1,13):\\n\",\n",
    "    \"                for m in range(1,13):\\n\",\n",
    "    \"                    for n in range(1,13):\\n\",\n",
    "    \"                        for o in range(1,13):\\n\",\n",
    "    \"                            for p in range(1,13):\\n\",\n",
    "    \"                                xs = [i,j,k,l,m,n,o,p]\\n\",\n",
    "    \"                                print(xs)\\n\",\n",
    "    \"                                out = solve(xs,ds, m)\\n\",\n",
    "    \"                                result.append(out)\\n\""
   ]
  },
  {
   "cell_type": "code",
   "execution_count": 9,
   "metadata": {},
   "outputs": [
    {
     "name": "stdout",
     "output_type": "stream",
     "text": [
      "4369804.83103784\n"
     ]
    }
   ],
   "source": [
    "import numpy as np\n",
    "a = np.array(result)\n",
    "b = np.std(a)\n",
    "print(b)"
   ]
  },
  {
   "cell_type": "code",
   "execution_count": 10,
   "metadata": {},
   "outputs": [
    {
     "name": "stdout",
     "output_type": "stream",
     "text": [
      "2009914\n"
     ]
    }
   ],
   "source": [
    "def Average(lst):\n",
    "    return sum(lst) / len(lst)\n",
    "average = Average(result)\n",
    "print(average)"
   ]
  },
  {
   "cell_type": "code",
   "execution_count": 11,
   "metadata": {},
   "outputs": [
    {
     "name": "stdout",
     "output_type": "stream",
     "text": [
      "16777208\n",
      "8\n"
     ]
    }
   ],
   "source": [
    "print(max(result))\n",
    "print(min(result))"
   ]
  }
 ],
 "metadata": {
  "kernelspec": {
   "display_name": "Python 2",
   "language": "python",
   "name": "python2"
  },
  "language_info": {
   "codemirror_mode": {
    "name": "ipython",
    "version": 2
   },
   "file_extension": ".py",
   "mimetype": "text/x-python",
   "name": "python",
   "nbconvert_exporter": "python",
   "pygments_lexer": "ipython2",
   "version": "2.7.15"
  }
 },
 "nbformat": 4,
 "nbformat_minor": 2
}
